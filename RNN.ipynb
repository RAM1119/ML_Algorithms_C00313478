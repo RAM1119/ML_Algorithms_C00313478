{
 "cells": [
  {
   "cell_type": "markdown",
   "id": "05294823-edb4-4c8f-a02a-e03a76b17f19",
   "metadata": {},
   "source": [
    "# Generating names with recurrent neural networks\n",
    "\n",
    "This time you'll find yourself delving into the heart (and other intestines) of recurrent neural networks on a class of toy problems.\n",
    "\n",
    "Struggle to find a name for the variable? Let's see how you'll come up with a name for your son/daughter. Surely no human has expertize over what is a good child name, so let us train RNN instead;\n",
    "\n",
    "It's dangerous to go alone, take these:\n"
   ]
  },
  {
   "cell_type": "code",
   "execution_count": 2,
   "id": "f6d26de3-c8e6-4486-b047-8a4e46964214",
   "metadata": {},
   "outputs": [
    {
     "name": "stdout",
     "output_type": "stream",
     "text": [
      "2.19.0\n"
     ]
    }
   ],
   "source": [
    "import tensorflow as tf\n",
    "print(tf.__version__)\n",
    "import numpy as np\n",
    "import matplotlib.pyplot as plt\n",
    "%matplotlib inline\n",
    "import os\n",
    "import sys\n",
    "sys.path.append(\"..\")\n",
    "import keras_utils\n",
    "import tqdm\n",
    "import keras\n",
    "from keras.layers import concatenate, Dense, Embedding, Dropout\n",
    "import random\n",
    "import tensorflow.compat.v1 as tf"
   ]
  },
  {
   "cell_type": "markdown",
   "id": "8566a5d5-21d3-4855-af2c-9a0bfeb27f2a",
   "metadata": {},
   "source": [
    "## Load data\n",
    "\n",
    "The dataset used to contain ~8k earthling names. Now, we **changed** it to `mtg_card_names.txt` containing lines of Magic: The Gathering card entries. We'll read this file, then add a start token `\" \"` and use a pad token `\"#\"`."
   ]
  },
  {
   "cell_type": "code",
   "execution_count": 3,
   "id": "16481aff-6d6b-4778-8750-f172d480947a",
   "metadata": {},
   "outputs": [],
   "source": [
    "start_token = \" \"  # so that the network knows that we're generating a first token\n",
    "\n",
    "# this is the token for padding,\n",
    "# we will add fake pad token at the end of lines \n",
    "# to make them of equal size for further batching\n",
    "pad_token = \"#\""
   ]
  },
  {
   "cell_type": "markdown",
   "id": "ed9255fe-c0a4-4d6f-85d9-dcb6cf5544be",
   "metadata": {},
   "source": [
    "#### CHANGED: \n",
    "    - replaced the dataset \"names\" with \"mtg_card_names.txt\"\n",
    "#### REASON: \n",
    "    - To explore the model in my area of intrest\n"
   ]
  },
  {
   "cell_type": "code",
   "execution_count": 4,
   "id": "171a7bff-0ef6-4baf-a0b1-d85775bf38bb",
   "metadata": {},
   "outputs": [
    {
     "name": "stdout",
     "output_type": "stream",
     "text": [
      "number of samples: 16714\n",
      " [1G] Instant: Moonmist\n",
      " [3U] Legendary Creature, Illusion: Mistform Ultimus\n",
      " [B] Sorcery: Organ Harvest\n",
      " [5GW] Creature, Dragon: Arashin Sovereign\n",
      " [2BB] Creature, Donkey Zombie: Bad Ass\n",
      " [UU] Creature, Thalakos Wizard: Thalakos Seer\n",
      "max length: 169\n"
     ]
    },
    {
     "data": {
      "image/png": "[encoded data removed]",
      "text/plain": [
       "<Figure size 640x480 with 1 Axes>"
      ]
     },
     "metadata": {},
     "output_type": "display_data"
    }
   ],
   "source": [
    "with open(\"mtg_card_names.txt\", \"r\", encoding=\"utf-8\") as f:\n",
    "    lines = f.read().split('\\n')\n",
    "    # remove empty lines\n",
    "    lines = [l.strip() for l in lines if l.strip()]\n",
    "    # add start token to each line\n",
    "    lines = [start_token + l for l in lines]\n",
    "\n",
    "print('number of samples:', len(lines))\n",
    "for x in lines[:: max(len(lines)//5, 1)]:\n",
    "    print(x)\n",
    "\n",
    "MAX_LENGTH = max(map(len, lines))\n",
    "print(\"max length:\", MAX_LENGTH)\n",
    "\n",
    "plt.title('Sequence length distribution')\n",
    "plt.hist(list(map(len, lines)), bins=25)\n",
    "plt.show()"
   ]
  },
  {
   "cell_type": "markdown",
   "id": "e48f7662-4144-4e7a-86a9-d61147cfbfca",
   "metadata": {},
   "source": [
    "## Text processing\n",
    "\n",
    "First we need to collect a \"vocabulary\" of all unique tokens i.e. unique characters. We then encode inputs as a sequence of character IDs.\n",
    "\n"
   ]
  },
  {
   "cell_type": "markdown",
   "id": "aae4d295-c381-4036-8131-825bf7c70925",
   "metadata": {},
   "source": [
    "#### CHANGED:\n",
    "    - variable renamed from \"names\" to \"lines\" for clarity\n",
    "#### REASON:\n",
    "    - we're no longer using \"names\" dataset"
   ]
  },
  {
   "cell_type": "code",
   "execution_count": 5,
   "id": "10e4d429-e4b5-4037-a9c6-fcea707b19f0",
   "metadata": {},
   "outputs": [],
   "source": [
    "all_text = \"\".join(lines)"
   ]
  },
  {
   "cell_type": "markdown",
   "id": "9e168c84-cfa6-4204-bd9a-27b4e576fa7a",
   "metadata": {},
   "source": [
    "#### CHANGED:\n",
    "    - we now allow up to a bigger token range because we might have more symbols in MTG lines\n",
    "#### REASON:\n",
    "    - the old check was 50 < n_tokens < 60, but we expect more possible characters"
   ]
  },
  {
   "cell_type": "code",
   "execution_count": 6,
   "id": "a3223ed8-45e6-47d9-91e2-840bb2cf490d",
   "metadata": {},
   "outputs": [
    {
     "name": "stdout",
     "output_type": "stream",
     "text": [
      "n_tokens: 79\n"
     ]
    }
   ],
   "source": [
    "\n",
    "tokens = sorted(list(set(all_text + pad_token)))  # ensure pad_token included\n",
    "n_tokens = len(tokens)\n",
    "print ('n_tokens:', n_tokens)\n",
    "\n",
    "# For demonstration, we allow a broader range check\n",
    "assert 50 < n_tokens < 300, \"Check token range to ensure it's plausible for MTG dataset.\""
   ]
  },
  {
   "cell_type": "code",
   "execution_count": 7,
   "id": "cee07a7d-1123-403a-bbbc-3399481fffb1",
   "metadata": {},
   "outputs": [
    {
     "name": "stdout",
     "output_type": "stream",
     "text": [
      " [1G] Instant: Moonmist\n",
      " [1W] Instant: Test of Faith\n",
      " [2U] Creature, Efreet: Shimmering Efreet\n",
      " [2] Artifact, Equipment: Specter's Shroud\n",
      "[[ 0 50 13 30 51  0 32 66 71 72 53 66 72 22  0 36 67 67 66 65 61 71 72  3\n",
      "   3  3  3  3  3  3  3  3  3  3  3  3  3  3  3  3  3  3  3  3  3  3  3  3\n",
      "   3  3  3  3  3  3  3  3  3  3  3  3  3  3  3  3  3  3  3  3  3  3  3  3\n",
      "   3  3  3  3  3  3  3  3  3  3  3  3  3  3  3  3  3  3  3  3  3  3  3  3\n",
      "   3  3  3  3  3  3  3  3  3  3  3  3  3  3  3  3  3  3  3  3  3  3  3  3\n",
      "   3  3  3  3  3  3  3  3  3  3  3  3  3  3  3  3  3  3  3  3  3  3  3  3\n",
      "   3  3  3  3  3  3  3  3  3  3  3  3  3  3  3  3  3  3  3  3  3  3  3  3\n",
      "   3]\n",
      " [ 0 50 13 46 51  0 32 66 71 72 53 66 72 22  0 43 57 71 72  0 67 58  0 29\n",
      "  53 61 72 60  3  3  3  3  3  3  3  3  3  3  3  3  3  3  3  3  3  3  3  3\n",
      "   3  3  3  3  3  3  3  3  3  3  3  3  3  3  3  3  3  3  3  3  3  3  3  3\n",
      "   3  3  3  3  3  3  3  3  3  3  3  3  3  3  3  3  3  3  3  3  3  3  3  3\n",
      "   3  3  3  3  3  3  3  3  3  3  3  3  3  3  3  3  3  3  3  3  3  3  3  3\n",
      "   3  3  3  3  3  3  3  3  3  3  3  3  3  3  3  3  3  3  3  3  3  3  3  3\n",
      "   3  3  3  3  3  3  3  3  3  3  3  3  3  3  3  3  3  3  3  3  3  3  3  3\n",
      "   3]\n",
      " [ 0 50 14 44 51  0 26 70 57 53 72 73 70 57  8  0 28 58 70 57 57 72 22  0\n",
      "  42 60 61 65 65 57 70 61 66 59  0 28 58 70 57 57 72  3  3  3  3  3  3  3\n",
      "   3  3  3  3  3  3  3  3  3  3  3  3  3  3  3  3  3  3  3  3  3  3  3  3\n",
      "   3  3  3  3  3  3  3  3  3  3  3  3  3  3  3  3  3  3  3  3  3  3  3  3\n",
      "   3  3  3  3  3  3  3  3  3  3  3  3  3  3  3  3  3  3  3  3  3  3  3  3\n",
      "   3  3  3  3  3  3  3  3  3  3  3  3  3  3  3  3  3  3  3  3  3  3  3  3\n",
      "   3  3  3  3  3  3  3  3  3  3  3  3  3  3  3  3  3  3  3  3  3  3  3  3\n",
      "   3]\n",
      " [ 0 50 14 51  0 24 70 72 61 58 53 55 72  8  0 28 69 73 61 68 65 57 66 72\n",
      "  22  0 42 68 57 55 72 57 70  5 71  0 42 60 70 67 73 56  3  3  3  3  3  3\n",
      "   3  3  3  3  3  3  3  3  3  3  3  3  3  3  3  3  3  3  3  3  3  3  3  3\n",
      "   3  3  3  3  3  3  3  3  3  3  3  3  3  3  3  3  3  3  3  3  3  3  3  3\n",
      "   3  3  3  3  3  3  3  3  3  3  3  3  3  3  3  3  3  3  3  3  3  3  3  3\n",
      "   3  3  3  3  3  3  3  3  3  3  3  3  3  3  3  3  3  3  3  3  3  3  3  3\n",
      "   3  3  3  3  3  3  3  3  3  3  3  3  3  3  3  3  3  3  3  3  3  3  3  3\n",
      "   3]]\n"
     ]
    }
   ],
   "source": [
    "token_to_id = {t: i for i, t in enumerate(tokens)}\n",
    "assert len(tokens) == len(token_to_id), \"dictionaries must have same size\"\n",
    "\n",
    "def to_matrix(lines_list, max_len=None, pad=token_to_id[pad_token], dtype=np.int32):\n",
    "    \"\"\"Casts a list of lines into rnn-digestable padded matrix.\"\"\"\n",
    "    max_len = max_len or max(map(len, lines_list))\n",
    "    arr = np.zeros([len(lines_list), max_len], dtype) + pad\n",
    "    for i, txt in enumerate(lines_list):\n",
    "        txt_ix = [token_to_id[ch] for ch in txt]\n",
    "        arr[i, :len(txt_ix)] = txt_ix\n",
    "    return arr\n",
    "\n",
    "# Example: cast 4 random lines to padded matrices\n",
    "print('\\n'.join(lines[:: max(len(lines)//3,1)][:4]))\n",
    "print(to_matrix(lines[:: max(len(lines)//3,1)][:4], max_len=MAX_LENGTH))"
   ]
  },
  {
   "cell_type": "markdown",
   "id": "ff96959f-638f-4b8f-83e2-8c10162c2203",
   "metadata": {},
   "source": [
    "## Defining a recurrent neural network\n",
    "\n",
    "We can rewrite recurrent neural network as a consecutive application of a dense layer to input \n",
    " and previous rnn state \n",
    ". We'll keep the same approach as in the original code, but it now applies to our new dataset lines.\n",
    "\n"
   ]
  },
  {
   "cell_type": "code",
   "execution_count": 8,
   "id": "20ff6a86-9b4c-488c-aa4c-eb97ff56f80a",
   "metadata": {},
   "outputs": [
    {
     "name": "stdout",
     "output_type": "stream",
     "text": [
      "WARNING:tensorflow:From C:\\Users\\91818\\AppData\\Local\\Temp\\ipykernel_1888\\2808264084.py:2: The name tf.disable_v2_behavior is deprecated. Please use tf.compat.v1.disable_v2_behavior instead.\n",
      "\n",
      "WARNING:tensorflow:From C:\\Users\\91818\\AppData\\Roaming\\Python\\Python312\\site-packages\\tensorflow\\python\\compat\\v2_compat.py:98: disable_resource_variables (from tensorflow.python.ops.resource_variables_toggle) is deprecated and will be removed in a future version.\n",
      "Instructions for updating:\n",
      "non-resource variables are not supported in the long term\n"
     ]
    }
   ],
   "source": [
    "import tensorflow.compat.v1 as tf\n",
    "tf.disable_v2_behavior()  # disables TF2 features\n",
    "\n",
    "tf.reset_default_graph()  # now works\n",
    "s = tf.InteractiveSession()\n",
    "\n",
    "\n",
    "rnn_num_units = 64  # size of hidden state\n",
    "embedding_size = 16  # for characters\n",
    "\n",
    "# an embedding layer that converts character ids into embeddings\n",
    "\n",
    "embed_x = Embedding(n_tokens, embedding_size)\n"
   ]
  },
  {
   "cell_type": "markdown",
   "id": "ef7eb5cb-81fe-48e1-8ea7-613fc290cb2a",
   "metadata": {},
   "source": [
    "#### CHANGED:\n",
    "    - explicitly set activation='tanh'\n",
    "#### REASON:\n",
    "    - we want to confirm the hidden layer uses tanh"
   ]
  },
  {
   "cell_type": "code",
   "execution_count": 9,
   "id": "497e48f7-c2ed-4227-b2e2-7c50fd045992",
   "metadata": {},
   "outputs": [],
   "source": [
    "get_h_next = Dense(rnn_num_units, activation='tanh')"
   ]
  },
  {
   "cell_type": "markdown",
   "id": "b027fe77-bb19-403a-86b6-5934b7c9939d",
   "metadata": {},
   "source": [
    "#### CHANGED:\n",
    "    - explicitly set activation='softmax'\n",
    "#### REASON:\n",
    "    - we want probabilities for next char"
   ]
  },
  {
   "cell_type": "code",
   "execution_count": 10,
   "id": "6642c190-7397-4688-814f-8e982b2cacca",
   "metadata": {},
   "outputs": [],
   "source": [
    "get_probas = Dense(n_tokens, activation='softmax')"
   ]
  },
  {
   "cell_type": "markdown",
   "id": "1e6a77f8-25e1-45a4-be84-ba87eb98750e",
   "metadata": {},
   "source": [
    "We will generate lines character by character starting with `start_token`:\n",
    "\n",
    "`rnn_one_step(x_t, h_t)` must produce the next state and the next character probabilities.\n"
   ]
  },
  {
   "cell_type": "code",
   "execution_count": 11,
   "id": "0b497597-38e5-4869-826b-f7b7e1a98143",
   "metadata": {},
   "outputs": [],
   "source": [
    "def rnn_one_step(x_t, h_t):\n",
    "    \"\"\"\n",
    "    Recurrent neural network step that produces \n",
    "    probabilities for next token x_t+1 and next state h_t+1\n",
    "    given current input x_t and previous state h_t.\n",
    "    We'll call this method repeatedly to produce the whole sequence.\n",
    "    \"\"\"\n",
    "    # convert character id into embedding\n",
    "    x_t_emb = embed_x(tf.reshape(x_t, [-1, 1]))[:, 0]\n",
    "    \n",
    "    # concatenate x_t embedding and previous h_t state\n",
    "    x_and_h = tf.concat([x_t_emb, h_t], axis=1)\n",
    "    \n",
    "    # compute next state given x_and_h\n",
    "    h_next = get_h_next(x_and_h)\n",
    "    \n",
    "    # get probabilities for language model P(x_next|h_next)\n",
    "    output_probas = get_probas(h_next)\n",
    "    \n",
    "    return output_probas, h_next\n"
   ]
  },
  {
   "cell_type": "markdown",
   "id": "23d6e83c-c9e5-45b5-98df-3a5487b6db50",
   "metadata": {},
   "source": [
    "## RNN: loop\n",
    "\n",
    "We'll apply `rnn_one_step` in a loop over the maximum length of each line to get predictions.\n"
   ]
  },
  {
   "cell_type": "code",
   "execution_count": 12,
   "id": "9d346746-a61c-402b-9775-4d1e51791244",
   "metadata": {},
   "outputs": [],
   "source": [
    "input_sequence = tf.placeholder(tf.int32, (None, MAX_LENGTH))  # batch of token ids\n",
    "batch_size = tf.shape(input_sequence)[0]\n",
    "\n",
    "predicted_probas = []\n",
    "h_prev = tf.zeros([batch_size, rnn_num_units])  # initial hidden state\n",
    "\n",
    "for t in range(MAX_LENGTH):\n",
    "    x_t = input_sequence[:, t]  # column t\n",
    "    probas_next, h_next = rnn_one_step(x_t, h_prev)\n",
    "    \n",
    "    h_prev = h_next\n",
    "    predicted_probas.append(probas_next)\n",
    "    \n",
    "predicted_probas = tf.transpose(tf.stack(predicted_probas), [1, 0, 2])\n",
    "\n",
    "# next to last token prediction is not needed\n",
    "predicted_probas = predicted_probas[:, :-1, :]\n"
   ]
  },
  {
   "cell_type": "markdown",
   "id": "5f0a49ee-36cb-4923-8f12-fd22eb922a88",
   "metadata": {},
   "source": [
    "## RNN: loss and gradients\n",
    "\n",
    "We flatten our predictions and the correct answers to compute cross-entropy.\n"
   ]
  },
  {
   "cell_type": "code",
   "execution_count": 13,
   "id": "a0d79c34-4b5d-40db-8b11-f43a3dccbf21",
   "metadata": {},
   "outputs": [],
   "source": [
    "predictions_matrix = tf.reshape(predicted_probas, [-1, n_tokens])\n",
    "answers_matrix = tf.one_hot(tf.reshape(input_sequence[:, 1:], [-1]), n_tokens)"
   ]
  },
  {
   "cell_type": "markdown",
   "id": "1ebc135c-5aad-482f-9629-d1ba3ba79544",
   "metadata": {},
   "source": [
    "#### CHANGED:\n",
    "    - we keep the same cross-entropy approach\n",
    "#### REASON:\n",
    "    - standard language modeling"
   ]
  },
  {
   "cell_type": "code",
   "execution_count": 14,
   "id": "a8714310-76ef-4205-bfad-0cc7e9a1b55d",
   "metadata": {},
   "outputs": [
    {
     "name": "stdout",
     "output_type": "stream",
     "text": [
      "WARNING:tensorflow:From C:\\Users\\91818\\AppData\\Local\\Temp\\ipykernel_1888\\644773347.py:2: The name tf.train.AdamOptimizer is deprecated. Please use tf.compat.v1.train.AdamOptimizer instead.\n",
      "\n"
     ]
    }
   ],
   "source": [
    "loss = -tf.reduce_mean(tf.reduce_sum(answers_matrix * tf.log(predictions_matrix + 1e-9), axis=1))\n",
    "optimize = tf.train.AdamOptimizer().minimize(loss)"
   ]
  },
  {
   "cell_type": "markdown",
   "id": "089da8d0-c0c2-4c2a-8f35-d3459cc5bef0",
   "metadata": {},
   "source": [
    "## RNN: training\n",
    "\n",
    "We'll train for 1000 iterations with a batch size of 32, sampling random lines from `lines`.\n"
   ]
  },
  {
   "cell_type": "markdown",
   "id": "4d43832a-1654-41c1-852f-81d133fbb74e",
   "metadata": {},
   "source": [
    "### In for loop:\n",
    "#### CHANGED:\n",
    "    - replaced \"names\" with \"lines\"\n",
    "#### REASON:\n",
    "    - new dataset variable\n",
    "\n",
    "### At Assert\n",
    "#### CHANGED:\n",
    "    - keep the same assertion but note that a new dataset might need more steps\n",
    "#### REASON:\n",
    "    - ensures we at least see some convergence"
   ]
  },
  {
   "cell_type": "code",
   "execution_count": 15,
   "id": "b3aae4e8-2a71-4c02-8c44-d9602892ddcf",
   "metadata": {},
   "outputs": [
    {
     "data": {
      "image/png": "[encoded data removed]",
      "text/plain": [
       "<Figure size 640x480 with 1 Axes>"
      ]
     },
     "metadata": {},
     "output_type": "display_data"
    }
   ],
   "source": [
    "from IPython.display import clear_output\n",
    "from random import sample\n",
    "\n",
    "s.run(tf.global_variables_initializer())\n",
    "\n",
    "batch_size = 32\n",
    "history = []\n",
    "\n",
    "for i in range(1000):\n",
    "    # CHANGED: replaced \"names\" with \"lines\"\n",
    "    # REASON: new dataset variable\n",
    "    batch = to_matrix(sample(lines, batch_size), max_len=MAX_LENGTH)\n",
    "    loss_i, _ = s.run([loss, optimize], {input_sequence: batch})\n",
    "    \n",
    "    history.append(loss_i)\n",
    "    \n",
    "    if (i + 1) % 100 == 0:\n",
    "        clear_output(True)\n",
    "        plt.plot(history, label='loss')\n",
    "        plt.legend()\n",
    "        plt.show()\n",
    "\n",
    "# CHANGED: keep the same assertion but note that a new dataset might need more steps\n",
    "# REASON: ensures we at least see some convergence\n",
    "assert np.mean(history[:10]) > np.mean(history[-10:]), \"RNN didn't converge\"\n"
   ]
  },
  {
   "cell_type": "markdown",
   "id": "7e1ecf30-142e-4ceb-b32a-cd9fc3dd0894",
   "metadata": {},
   "source": [
    "## Explanation of the Training Loss Plot\n",
    "\n",
    "1. **Initial Loss Spike (~7)**  \n",
    "   - At the start of training (left side of the plot), the RNN is effectively guessing at random. As a result, the loss is **very high**—around 7 in this case. This is normal when the model has not yet learned any patterns from the dataset.\n",
    "\n",
    "2. **Rapid Decrease**  \n",
    "   - Within the first ~50–100 iterations, the loss **quickly** falls to around 2. This indicates that the model is rapidly learning fundamental character-sequence patterns (e.g., how to predict brackets, commas, spaces, etc.) in the MTG card lines.\n",
    "\n",
    "3. **Further Refinement**  \n",
    "   - Past ~200 iterations, the loss continues to **decline more gradually**, oscillating slightly. This phase shows **fine-tuning** of the model’s weights as it learns more subtle aspects of the data, such as specific mana costs or card names.\n",
    "\n",
    "4. **Small Spikes**  \n",
    "   - The small spikes around 200 and later might be due to **batch variance** or learning rate adjustments causing momentary jumps in loss. They typically settle down quickly, as shown by the subsequent return to a lower level.\n",
    "\n",
    "5. **Plateau / Steady State**  \n",
    "   - By the final iterations (towards 1000 steps), the loss hovers around a stable value, suggesting the model has reached a **reasonable** local minimum for predicting next characters in the dataset. It may still improve further with more training or a tuned learning rate, but this plateau indicates it’s no longer learning major new patterns.\n"
   ]
  },
  {
   "cell_type": "markdown",
   "id": "28f34a4c-3b9c-4feb-8efe-09f77eacf162",
   "metadata": {},
   "source": [
    "## RNN: sampling\n",
    "\n",
    "We define placeholders for a single char and a single hidden state, then use `rnn_one_step` to generate lines character by character.\n"
   ]
  },
  {
   "cell_type": "code",
   "execution_count": 16,
   "id": "49a4cba5-6348-4e8c-b40d-f18f72c05b75",
   "metadata": {},
   "outputs": [],
   "source": [
    "x_t = tf.placeholder(tf.int32, (1,))\n",
    "h_t = tf.Variable(np.zeros([1, rnn_num_units], np.float32))  # update hidden state in this variable\n",
    "\n",
    "next_probs, next_h = rnn_one_step(x_t, h_t)\n",
    "\n",
    "def generate_sample(seed_phrase=start_token, max_length=MAX_LENGTH):\n",
    "    \"\"\"\n",
    "    Generate text given a `seed_phrase`.\n",
    "    We'll feed each character of seed_phrase, then predict subsequent chars.\n",
    "    \"\"\"\n",
    "    x_sequence = [token_to_id[ch] for ch in seed_phrase]\n",
    "    s.run(tf.assign(h_t, h_t.initial_value))\n",
    "    \n",
    "    # feed the seed phrase\n",
    "    for ix in x_sequence[:-1]:\n",
    "        s.run(tf.assign(h_t, next_h), {x_t: [ix]})\n",
    "    \n",
    "    # start generating\n",
    "    for _ in range(max_length - len(seed_phrase)):\n",
    "        x_probs, _ = s.run([next_probs, tf.assign(h_t, next_h)], {x_t: [x_sequence[-1]]})\n",
    "        x_sequence.append(np.random.choice(n_tokens, p=x_probs[0]))\n",
    "        \n",
    "    # convert IDs back to chars, ignoring pad token\n",
    "    return ''.join([tokens[ix] for ix in x_sequence if tokens[ix] != pad_token])\n"
   ]
  },
  {
   "cell_type": "markdown",
   "id": "ea5e7b8e-9862-4bb0-880a-fffe6a5469da",
   "metadata": {},
   "source": [
    "## Testing Generation\n",
    "\n",
    "We'll generate lines with no prefix and with a prefix like `[2U]` to see if the RNN produces something plausible for an MTG card line.\n"
   ]
  },
  {
   "cell_type": "code",
   "execution_count": 17,
   "id": "001bd51a-1026-4d01-bbef-4205d322686d",
   "metadata": {},
   "outputs": [
    {
     "name": "stdout",
     "output_type": "stream",
     "text": [
      "Without prefix:\n",
      " DB]_A]eHeaduW  Crt: CreMactamhatarao m\n",
      " Et]]C] , In:  urc: Ameatu: Fontheu  1Pimefaterim  \n",
      " Hh]]Cg rrumare, Vhlbe tvat\n",
      " resUG] CrmanWetfa eWurereature: Hhmatt: SontvantacotlvioC\n",
      " (!m, Cucat] GSoathiy \n",
      " jix]neG]Uartarsjeres MAr\n",
      " ib]]Sw6rt: eouWet HCmef RreFhl\n",
      " .U'] C]zan]Yf, Rleet  \n",
      " /o] zInt]BCrc:YuurCuru, IreaR: Mciad: Mgiremeot\n",
      " K] EU  Creature, Sssrag \n"
     ]
    }
   ],
   "source": [
    "print(\"Without prefix:\")\n",
    "for _ in range(10):\n",
    "    print(generate_sample())\n"
   ]
  },
  {
   "cell_type": "code",
   "execution_count": 18,
   "id": "ca07cafd-6622-45b9-b184-2e7e97bda282",
   "metadata": {},
   "outputs": [
    {
     "name": "stdout",
     "output_type": "stream",
     "text": [
      "\n",
      "With prefix [2U]:\n",
      "[2U] Seaganementi Elmlrtl\n",
      "[2U], L(/antssturt: StCfe: BArionr: Srlekkifk vilfr nre: EeSgure, Ggo\n",
      "[2U]O  Ganrral areaiins\n",
      "[2U] Inuto: Cre aturec : h\n",
      "[2U] Cre]KGnnaty CoreCremCg : urestuwdiman: Vasurkareaasorasthhiutif don if\n",
      "[2U] ]Irrement: SuncB  \n",
      "[2U] CrtStirt, Grha euti   nilykyCrealuFdgtmenetSpiantS\n",
      "[2U] Snc'act:rcaatePert: Clantatonaiy Drgg: Saver \n",
      "[2U]7C]u]tarfatuve: Semeaty Rna l\n",
      "[2U] HientckRci Batiastyl chvf oriaOs\n"
     ]
    }
   ],
   "source": [
    "print(\"\\nWith prefix [2U]:\")\n",
    "for _ in range(10):\n",
    "    print(generate_sample(\"[2U]\"))\n",
    "    "
   ]
  },
  {
   "cell_type": "markdown",
   "id": "f309b237-1760-42e6-b5a2-73b25ff10d56",
   "metadata": {},
   "source": [
    "## Observed Drawbacks & Next Steps for Model Improvement\n",
    "\n",
    "1. **Current Drawbacks**  \n",
    "   - **Gibberish Output**: Many lines still contain jumbled text (e.g., `Crceature: SoikirelTemen:ormaBlRYibsthtioy`). This suggests the model hasn’t fully captured the dataset’s structure.  \n",
    "   - **Limited Capacity**: With only a 64-unit hidden state and around 1,000 training iterations, the RNN may not have enough expressive power to learn all the nuances of MTG card lines.  \n",
    "   - **Short Training**: A small number of steps means the network quickly reaches a local plateau. It needs more epochs or data passes to refine its text generation.\n",
    "\n",
    "2. **How to Improve the Model**  \n",
    "   - **Increase Training Steps**: Extending training from 1,000 steps to 5,000–10,000 can give the model more time to learn the complex format of `[mana cost] type(s): card name`.  \n",
    "   - **Use a Larger Hidden State**: Bumping `rnn_num_units` from 64 to 128 or 256 can help the RNN capture longer-range dependencies and more subtle patterns in the dataset.  \n",
    "   - **Add Dropout or Regularization**: Introducing dropout layers can prevent overfitting and help the model generalize better, leading to more coherent lines.  \n",
    "   - **Tune Hyperparameters**: Experiment with different learning rates or batch sizes. Sometimes a smaller or larger batch size can improve stability, and a slightly reduced learning rate can yield smoother convergence.  \n",
    "   - **Train with a Validation Set**: Tracking validation loss (or perplexity) can help you detect overfitting or underfitting and adjust training accordingly.\n",
    "\n",
    "3. **Moving Forward**  \n",
    "   - By systematically applying these improvements **longer training**, **larger hidden state**, **dropout**, and **hyperparameter tuning**—you can expect more readable and structured lines. Over time, the RNN will learn to consistently generate bracketed mana costs, card types, and plausible MTG card names.\n"
   ]
  },
  {
   "cell_type": "code",
   "execution_count": 19,
   "id": "1340ad2c-a5e3-4e1f-ab76-ce5aa06157d0",
   "metadata": {},
   "outputs": [
    {
     "name": "stdout",
     "output_type": "stream",
     "text": [
      "ERROR:tensorflow:An interactive session is already active. This can cause out-of-memory errors or some other unexpected errors (due to the unpredictable timing of garbage collection) in some cases. You must explicitly call `InteractiveSession.close()` to release resources held by the other session(s). Please use `tf.Session()` if you intend to productionize.\n"
     ]
    }
   ],
   "source": [
    "import tensorflow.compat.v1 as tf\n",
    "tf.disable_v2_behavior()  # CHANGED: using TF1.x compatibility\n",
    "# REASON: so we can keep the old session/graph approach\n",
    "\n",
    "tf.reset_default_graph()  # Clears the current graph\n",
    "s = tf.InteractiveSession()"
   ]
  },
  {
   "cell_type": "code",
   "execution_count": null,
   "id": "aad35ac2-dd21-4e65-a9a7-24ceab6cbc4c",
   "metadata": {},
   "outputs": [],
   "source": []
  },
  {
   "cell_type": "code",
   "execution_count": null,
   "id": "537de307-7201-4538-a251-65527389b6d0",
   "metadata": {},
   "outputs": [],
   "source": []
  },
  {
   "cell_type": "code",
   "execution_count": null,
   "id": "a37da07d-2913-4638-8dd5-7f770ddeeba8",
   "metadata": {},
   "outputs": [],
   "source": []
  },
  {
   "cell_type": "code",
   "execution_count": 20,
   "id": "a389e42d-e668-42e9-a716-c427d138cb81",
   "metadata": {},
   "outputs": [],
   "source": [
    "\n",
    "# CHANGED: Increase hidden state from 64 -> 128\n",
    "# REASON: More capacity for learning complex sequences\n",
    "rnn_num_units = 128  \n",
    "embedding_size = 16  # we can keep this the same or increase if desired\n",
    "\n",
    "from keras.layers import Dense, Embedding, Dropout\n",
    "import keras\n",
    "import numpy as np\n",
    "import matplotlib.pyplot as plt\n",
    "%matplotlib inline\n",
    "import random\n",
    "import os\n",
    "\n",
    "# assume we already have 'lines', 'tokens', 'token_to_id', 'n_tokens', etc. from the data loading step\n",
    "# Example snippet below (not the entire data loading code, which you already have):\n",
    "# lines = [...]\n",
    "# tokens = [...]\n",
    "# token_to_id = {t: i for i, t in enumerate(tokens)}\n",
    "# n_tokens = len(tokens)\n",
    "# MAX_LENGTH = max(map(len, lines))\n",
    "\n",
    "###############################\n",
    "# Model Definition with Dropout\n",
    "###############################\n",
    "\n",
    "# embedding layer\n",
    "embed_x = Embedding(n_tokens, embedding_size)\n",
    "\n",
    "# CHANGED: We'll define a Dense layer for h_next, but also add dropout\n",
    "# REASON: dropout helps generalize\n",
    "dense_h = Dense(rnn_num_units, activation='tanh')\n",
    "dense_output = Dense(n_tokens, activation='softmax')\n",
    "\n",
    "# We'll create a dropout layer we can apply after computing h_next\n",
    "dropout_layer = Dropout(rate=0.3)  # CHANGED: dropout rate = 0.3\n",
    "# REASON: typical range 0.2-0.5; helps prevent overfitting"
   ]
  },
  {
   "cell_type": "code",
   "execution_count": 21,
   "id": "a9d4268b-c098-4da4-890d-d70ceb78fe1a",
   "metadata": {},
   "outputs": [],
   "source": [
    "def rnn_one_step(x_t, h_t):\n",
    "    \"\"\"\n",
    "    RNN step: \n",
    "    1) embed x_t\n",
    "    2) concat with h_t\n",
    "    3) compute new state h_next\n",
    "    4) apply dropout to h_next\n",
    "    5) compute output probabilities\n",
    "    \"\"\"\n",
    "    x_t_emb = embed_x(tf.reshape(x_t, [-1, 1]))[:, 0]\n",
    "    x_and_h = tf.concat([x_t_emb, h_t], axis=1)\n",
    "    h_next = dense_h(x_and_h)\n",
    "\n",
    "    # CHANGED: apply dropout to h_next\n",
    "    # REASON: helps avoid overfitting\n",
    "    h_next_dropped = dropout_layer(h_next, training=True)  \n",
    "    # training=True ensures dropout is applied at training time\n",
    "\n",
    "    output_probas = dense_output(h_next_dropped)\n",
    "    return output_probas, h_next"
   ]
  },
  {
   "cell_type": "code",
   "execution_count": 22,
   "id": "d6476d95-328f-4718-b041-419949d44997",
   "metadata": {},
   "outputs": [],
   "source": [
    "########################################\n",
    "# Building the unrolled RNN for training\n",
    "########################################\n",
    "\n",
    "input_sequence = tf.placeholder(tf.int32, (None, MAX_LENGTH))\n",
    "batch_size = tf.shape(input_sequence)[0]\n",
    "predicted_probas = []\n",
    "h_prev = tf.zeros([batch_size, rnn_num_units])\n",
    "\n",
    "for t in range(MAX_LENGTH):\n",
    "    x_t = input_sequence[:, t]\n",
    "    probas_next, h_next = rnn_one_step(x_t, h_prev)\n",
    "    h_prev = h_next\n",
    "    predicted_probas.append(probas_next)\n",
    "\n",
    "predicted_probas = tf.transpose(tf.stack(predicted_probas), [1, 0, 2])\n",
    "predicted_probas = predicted_probas[:, :-1, :]"
   ]
  },
  {
   "cell_type": "code",
   "execution_count": 23,
   "id": "f688bd7e-76d7-460b-a180-1ed3670bf5a1",
   "metadata": {},
   "outputs": [],
   "source": [
    "# flatten predictions\n",
    "predictions_matrix = tf.reshape(predicted_probas, [-1, n_tokens])\n",
    "answers_matrix = tf.one_hot(tf.reshape(input_sequence[:, 1:], [-1]), n_tokens)\n",
    "\n",
    "loss = -tf.reduce_mean(tf.reduce_sum(answers_matrix * tf.log(predictions_matrix + 1e-9), axis=1))\n",
    "\n",
    "optimize = tf.train.AdamOptimizer().minimize(loss)\n",
    "\n",
    "# (Optional) If we want a validation set\n",
    "# we can define a placeholder for input_sequence_valid\n",
    "# and compute a separate 'loss_valid' the same way"
   ]
  },
  {
   "cell_type": "code",
   "execution_count": 24,
   "id": "8fe03f1a-f508-4841-8578-893b05c0ef78",
   "metadata": {},
   "outputs": [],
   "source": [
    "#######################\n",
    "# Session initialization\n",
    "#######################\n",
    "s.run(tf.global_variables_initializer())"
   ]
  },
  {
   "cell_type": "code",
   "execution_count": 25,
   "id": "34860ab3-8119-47f9-b4a2-3226ed7c7d13",
   "metadata": {},
   "outputs": [
    {
     "name": "stdout",
     "output_type": "stream",
     "text": [
      "Step 500/5000, loss=0.769\n",
      "Step 1000/5000, loss=0.511\n",
      "Step 1500/5000, loss=0.418\n",
      "Step 2000/5000, loss=0.393\n",
      "Step 2500/5000, loss=0.372\n",
      "Step 3000/5000, loss=0.374\n",
      "Step 3500/5000, loss=0.364\n",
      "Step 4000/5000, loss=0.359\n",
      "Step 4500/5000, loss=0.335\n",
      "Step 5000/5000, loss=0.299\n"
     ]
    },
    {
     "data": {
      "image/png": "[encoded data removed]",
      "text/plain": [
       "<Figure size 640x480 with 1 Axes>"
      ]
     },
     "metadata": {},
     "output_type": "display_data"
    }
   ],
   "source": [
    "#######################\n",
    "# Training\n",
    "#######################\n",
    "\n",
    "# CHANGED: increase total steps from 1000 -> 5000\n",
    "# REASON: more training for better convergence\n",
    "n_steps = 5000\n",
    "batch_size_val = 32\n",
    "train_history = []\n",
    "\n",
    "for step in range(n_steps):\n",
    "    batch_lines = random.sample(lines, batch_size_val)\n",
    "    batch_matrix = to_matrix(batch_lines, max_len=MAX_LENGTH)\n",
    "    loss_val, _ = s.run([loss, optimize], {input_sequence: batch_matrix})\n",
    "    train_history.append(loss_val)\n",
    "\n",
    "    if (step + 1) % 500 == 0:\n",
    "        print(f\"Step {step+1}/{n_steps}, loss={loss_val:.3f}\")\n",
    "\n",
    "# Plot training history\n",
    "import matplotlib.pyplot as plt\n",
    "plt.plot(train_history)\n",
    "plt.title(\"Training Loss with Larger Hidden State & Dropout\")\n",
    "plt.xlabel(\"Steps\")\n",
    "plt.ylabel(\"Loss\")\n",
    "plt.show()"
   ]
  },
  {
   "cell_type": "code",
   "execution_count": 26,
   "id": "9df038e6-acff-4aa7-826a-2a71f90479cb",
   "metadata": {},
   "outputs": [],
   "source": [
    "#######################\n",
    "# Generation\n",
    "#######################\n",
    "\n",
    "x_t = tf.placeholder(tf.int32, (1,))\n",
    "h_t = tf.Variable(np.zeros([1, rnn_num_units], np.float32))\n",
    "next_probs, next_h = rnn_one_step(x_t, h_t)\n",
    "\n",
    "def generate_sample(seed_phrase=\" \", max_length=MAX_LENGTH):\n",
    "    x_sequence = [token_to_id[ch] for ch in seed_phrase]\n",
    "    s.run(tf.assign(h_t, h_t.initial_value))\n",
    "\n",
    "    # feed the seed phrase\n",
    "    for ix in x_sequence[:-1]:\n",
    "        s.run(tf.assign(h_t, next_h), {x_t: [ix]})\n",
    "\n",
    "    for _ in range(max_length - len(seed_phrase)):\n",
    "        x_probs, _ = s.run([next_probs, tf.assign(h_t, next_h)], {x_t: [x_sequence[-1]]})\n",
    "        x_sequence.append(np.random.choice(n_tokens, p=x_probs[0]))\n",
    "\n",
    "    return ''.join([tokens[ix] for ix in x_sequence if tokens[ix] != \"#\"])\n"
   ]
  },
  {
   "cell_type": "code",
   "execution_count": 27,
   "id": "8e03f88e-45ad-4d45-87b2-53a7a5c2000e",
   "metadata": {},
   "outputs": [
    {
     "name": "stdout",
     "output_type": "stream",
     "text": [
      "Samples without prefix:\n",
      " [XR] Enchantment: Higraogin Bored\n",
      " [1R] Creature, Ke-Faldeor: Tilathary Ul Fiae\n",
      " [1U] Inrkant: Shale Sclcellest\n",
      " [U] Creature, Bmamerin Arsirn: Ipraof Shemin Monkis\n",
      " [2R] Creature, Drid: Glader\n"
     ]
    }
   ],
   "source": [
    "print(\"Samples without prefix:\")\n",
    "for _ in range(5):\n",
    "    print(generate_sample())\n",
    "\n"
   ]
  },
  {
   "cell_type": "code",
   "execution_count": 28,
   "id": "b4c6ca9a-2877-47b5-84fc-0ddcda6bdda6",
   "metadata": {},
   "outputs": [
    {
     "name": "stdout",
     "output_type": "stream",
     "text": [
      "\n",
      "Samples with prefix [2U]:\n",
      "[2U] Instanc: Siak Skewanber\n",
      "[2U] Sorderrik: Murcuat Remper\n",
      "[2U] Brsaft: Wowrid Oanewau\n",
      "[2U] Creature, Spiris: Oake Sfivat Pansin Dutick\n",
      "[2U] Creature, Kof Bhe, Urliil: Magat Ries\n"
     ]
    }
   ],
   "source": [
    "print(\"\\nSamples with prefix [2U]:\")\n",
    "for _ in range(5):\n",
    "    print(generate_sample(\"[2U]\"))"
   ]
  },
  {
   "cell_type": "markdown",
   "id": "24366fc8-461f-497b-bede-445e76244fe6",
   "metadata": {},
   "source": [
    "## **Results Analysis**\n",
    "\n",
    "1. **Current Results**  \n",
    "   - **Without Prefix**:  \n",
    "     ```\n",
    "     [XR] Enchantment: Higraogin Bored\n",
    "     [1R] Creature, Ke-Faldeor: Tilathary Ul Fiae\n",
    "     [1U] Inrkant: Shale Sclcellest\n",
    "     [U] Creature, Bmamerin Arsirn: Ipraof Shemin Monkis\n",
    "     [2R] Creature, Drid: Glader\n",
    "     ```\n",
    "     Here, the model consistently starts with a bracketed mana cost (e.g., `[XR]`, `[1R]`, `[1U]`), followed by a **type** (`Enchantment`, `Creature`, `Inrkant`) and a **name** or descriptor. Although many of these words are **invented** (“Higraogin,” “Sclcellest”), the overall structure aligns with typical MTG card lines.\n",
    "\n",
    "   - **With Prefix `[2U]`**:  \n",
    "     ```\n",
    "     [2U] Instanc: Siak Skewanber\n",
    "     [2U] Sorderrik: Murcuat Remper\n",
    "     [2U] Brsaft: Wowrid Oanewau\n",
    "     [2U] Creature, Spiris: Oake Sfivat Pansin Dutick\n",
    "     [2U] Creature, Kof Bhe, Urliil: Magat Ries\n",
    "     ```\n",
    "     Providing a **prefix** like `[2U]` guides the model to continue in that context. The network generates partial card lines featuring “Creature,” “Instanc,” and invented terms like “Brsaft” or “Siak Skewanber.” This indicates it has learned some bracket usage and card type conventions, though **typos** and **nonsense** words still appear.\n",
    "\n",
    "2. **Overall Observations**  \n",
    "   - The output preserves the **basic** Magic card format—bracketed mana costs and a type: name structure.  \n",
    "   - **Invented words** remain (“Spiris,” “Murcuat”), which suggests that further training or a larger hidden state could help reduce gibberish.  \n",
    "   - The network demonstrates a **partial grasp** of MTG-like naming conventions, mixing real and nonsensical tokens.\n",
    "\n",
    "3. **Why I Added a Second RNN Layer**  \n",
    "   - Even after increasing the hidden size and adding dropout, single-layer RNNs produced highly random or incoherent text.  \n",
    "   - By **stacking two RNN layers**, the model can learn **local patterns** (e.g., punctuation, mana costs) in the first layer, while the second layer captures **higher-level dependencies** (e.g., card type transitions, naming consistency).  \n",
    "   - The resulting outputs show improved bracket usage and more consistent type: name formatting, although **further refinements** (like more training steps, hyperparameter tuning, or a larger hidden state) could still enhance text quality.\n"
   ]
  },
  {
   "cell_type": "markdown",
   "id": "b62fea08-5fd7-4886-adf4-66b2c9fcecea",
   "metadata": {},
   "source": [
    "## Adding a Second RNN Layer\n",
    "\n",
    "I decided to add a **second RNN layer** on top of the first one because, even after increasing the hidden state and adding dropout, the model still produces partial gibberish. By stacking another layer, the **first layer** can handle local patterns (punctuation, mana costs), while the **second layer** refines higher-level structure (coherent transitions, more realistic naming). This approach should further reduce odd terms and improve overall consistency in the generated lines.\n"
   ]
  },
  {
   "cell_type": "code",
   "execution_count": 29,
   "id": "664f0cd8-1388-474e-9944-fffea5b8435f",
   "metadata": {},
   "outputs": [
    {
     "name": "stdout",
     "output_type": "stream",
     "text": [
      "ERROR:tensorflow:An interactive session is already active. This can cause out-of-memory errors or some other unexpected errors (due to the unpredictable timing of garbage collection) in some cases. You must explicitly call `InteractiveSession.close()` to release resources held by the other session(s). Please use `tf.Session()` if you intend to productionize.\n"
     ]
    }
   ],
   "source": [
    "tf.disable_v2_behavior() \n",
    "tf.reset_default_graph()\n",
    "s = tf.InteractiveSession()\n",
    "\n",
    "rnn_num_units = 128   # size of hidden state for each layer\n",
    "embedding_size = 16\n",
    "dropout_rate = 0.3"
   ]
  },
  {
   "cell_type": "code",
   "execution_count": 30,
   "id": "ce46cab3-74d6-461e-a049-082780b8b86e",
   "metadata": {},
   "outputs": [],
   "source": [
    "# ========== Define 2-Layer RNN ==========\n",
    "\n",
    "embed_x = Embedding(n_tokens, embedding_size)\n",
    "\n",
    "# First hidden layer\n",
    "dense_h1 = Dense(rnn_num_units, activation='tanh')\n",
    "dropout_layer1 = Dropout(rate=dropout_rate)\n",
    "\n",
    "# Second hidden layer\n",
    "dense_h2 = Dense(rnn_num_units, activation='tanh')\n",
    "dropout_layer2 = Dropout(rate=dropout_rate)\n",
    "\n",
    "# Output layer\n",
    "dense_output = Dense(n_tokens, activation='softmax')\n",
    "\n"
   ]
  },
  {
   "cell_type": "code",
   "execution_count": 31,
   "id": "7d3eff22-8297-46c6-b178-431542394060",
   "metadata": {},
   "outputs": [],
   "source": [
    "def rnn_one_step(x_t, h_t1, h_t2):\n",
    "    \"\"\"\n",
    "    Two-layer RNN step:\n",
    "    1) embed x_t\n",
    "    2) concat with h_t1 -> h_next1, apply dropout\n",
    "    3) concat h_next1 with h_t2 -> h_next2, apply dropout\n",
    "    4) compute output from h_next2\n",
    "    \"\"\"\n",
    "    # embed input character\n",
    "    x_t_emb = embed_x(tf.reshape(x_t, [-1, 1]))[:, 0]\n",
    "    # first layer\n",
    "    x_and_h1 = tf.concat([x_t_emb, h_t1], axis=1)\n",
    "    h_next1 = dense_h1(x_and_h1)\n",
    "    h_next1_dropped = dropout_layer1(h_next1, training=True)\n",
    "\n",
    "    # second layer\n",
    "    x_and_h2 = tf.concat([h_next1_dropped, h_t2], axis=1)\n",
    "    h_next2 = dense_h2(x_and_h2)\n",
    "    h_next2_dropped = dropout_layer2(h_next2, training=True)\n",
    "\n",
    "    # output probabilities\n",
    "    output_probas = dense_output(h_next2_dropped)\n",
    "    return output_probas, h_next1, h_next2"
   ]
  },
  {
   "cell_type": "code",
   "execution_count": 32,
   "id": "a8853d29-a775-4e85-927d-7d23f068c5d4",
   "metadata": {},
   "outputs": [],
   "source": [
    "# ========== Build Unrolled Graph ==========\n",
    "\n",
    "input_sequence = tf.placeholder(tf.int32, (None, MAX_LENGTH))\n",
    "batch_size = tf.shape(input_sequence)[0]\n",
    "\n",
    "predicted_probas = []\n",
    "\n",
    "# Two hidden states, one per layer\n",
    "h_prev1 = tf.zeros([batch_size, rnn_num_units])\n",
    "h_prev2 = tf.zeros([batch_size, rnn_num_units])\n",
    "\n",
    "for t in range(MAX_LENGTH):\n",
    "    x_t = input_sequence[:, t]\n",
    "    probas_next, h_next1, h_next2 = rnn_one_step(x_t, h_prev1, h_prev2)\n",
    "    h_prev1, h_prev2 = h_next1, h_next2\n",
    "    predicted_probas.append(probas_next)\n",
    "\n",
    "predicted_probas = tf.transpose(tf.stack(predicted_probas), [1, 0, 2])\n",
    "predicted_probas = predicted_probas[:, :-1, :]\n",
    "\n",
    "predictions_matrix = tf.reshape(predicted_probas, [-1, n_tokens])\n",
    "answers_matrix = tf.one_hot(tf.reshape(input_sequence[:, 1:], [-1]), n_tokens)\n",
    "\n",
    "loss = -tf.reduce_mean(tf.reduce_sum(answers_matrix * tf.log(predictions_matrix + 1e-9), axis=1))\n",
    "optimize = tf.train.AdamOptimizer().minimize(loss)\n",
    "\n",
    "# Initialize session\n",
    "s.run(tf.global_variables_initializer())"
   ]
  },
  {
   "cell_type": "code",
   "execution_count": 33,
   "id": "44fde3d2-536b-4638-8ff7-c3b271d70309",
   "metadata": {},
   "outputs": [
    {
     "name": "stdout",
     "output_type": "stream",
     "text": [
      "Step 500/5000, loss=0.609\n",
      "Step 1000/5000, loss=0.479\n",
      "Step 1500/5000, loss=0.409\n",
      "Step 2000/5000, loss=0.378\n",
      "Step 2500/5000, loss=0.344\n",
      "Step 3000/5000, loss=0.342\n",
      "Step 3500/5000, loss=0.346\n",
      "Step 4000/5000, loss=0.323\n",
      "Step 4500/5000, loss=0.281\n",
      "Step 5000/5000, loss=0.280\n"
     ]
    },
    {
     "data": {
      "image/png": "[encoded data removed]",
      "text/plain": [
       "<Figure size 640x480 with 1 Axes>"
      ]
     },
     "metadata": {},
     "output_type": "display_data"
    }
   ],
   "source": [
    "# ========== Training ==========\n",
    "\n",
    "n_steps = 5000\n",
    "batch_size_val = 32\n",
    "train_history = []\n",
    "\n",
    "for step in range(n_steps):\n",
    "    batch_lines = random.sample(lines, batch_size_val)\n",
    "    batch_matrix = to_matrix(batch_lines, max_len=MAX_LENGTH)  # assume you have 'to_matrix' function\n",
    "    loss_val, _ = s.run([loss, optimize], {input_sequence: batch_matrix})\n",
    "    train_history.append(loss_val)\n",
    "\n",
    "    if (step + 1) % 500 == 0:\n",
    "        print(f\"Step {step+1}/{n_steps}, loss={loss_val:.3f}\")\n",
    "\n",
    "plt.plot(train_history)\n",
    "plt.title(\"Training Loss (2-Layer RNN)\")\n",
    "plt.xlabel(\"Steps\")\n",
    "plt.ylabel(\"Loss\")\n",
    "plt.show()"
   ]
  },
  {
   "cell_type": "code",
   "execution_count": 34,
   "id": "16998d99-5102-4462-a93b-304d9f9d3ef5",
   "metadata": {},
   "outputs": [],
   "source": [
    "# ========== Generation ==========\n",
    "\n",
    "x_t = tf.placeholder(tf.int32, (1,))\n",
    "# two hidden states for generation\n",
    "h_t1 = tf.Variable(np.zeros([1, rnn_num_units], np.float32))\n",
    "h_t2 = tf.Variable(np.zeros([1, rnn_num_units], np.float32))\n",
    "\n",
    "probas_gen, h_next1_gen, h_next2_gen = rnn_one_step(x_t, h_t1, h_t2)\n",
    "\n",
    "def generate_sample(seed_phrase=\" \", max_length=MAX_LENGTH):\n",
    "    x_sequence = [token_to_id[ch] for ch in seed_phrase]\n",
    "    # reset hidden states\n",
    "    s.run(tf.assign(h_t1, h_t1.initial_value))\n",
    "    s.run(tf.assign(h_t2, h_t2.initial_value))\n",
    "\n",
    "    # feed the seed phrase\n",
    "    for ix in x_sequence[:-1]:\n",
    "        s.run([tf.assign(h_t1, h_next1_gen), tf.assign(h_t2, h_next2_gen)],\n",
    "              {x_t: [ix]})\n",
    "\n",
    "    for _ in range(max_length - len(seed_phrase)):\n",
    "        x_probs, _, _ = s.run([probas_gen, tf.assign(h_t1, h_next1_gen),\n",
    "                               tf.assign(h_t2, h_next2_gen)],\n",
    "                              {x_t: [x_sequence[-1]]})\n",
    "        x_sequence.append(np.random.choice(n_tokens, p=x_probs[0]))\n",
    "\n",
    "    return ''.join([tokens[ix] for ix in x_sequence if tokens[ix] != \"#\"])"
   ]
  },
  {
   "cell_type": "code",
   "execution_count": 35,
   "id": "8e160912-570f-4a68-a41d-558b5bd8c3be",
   "metadata": {},
   "outputs": [
    {
     "name": "stdout",
     "output_type": "stream",
     "text": [
      "Samples without prefix:\n",
      " [3WBB] Enchantment: Favumane Glame\n",
      " [4G] Creature, Demkon: Cunalron Baw Decte\n",
      " [1GG] Creature, Werfol: Tarden of Pamari\n",
      " [2U] Creature, Giant: Clini Woup Hobro\n",
      " [4B] Enchantment, Alrion: Fliut Ticgrosl\n"
     ]
    }
   ],
   "source": [
    "print(\"Samples without prefix:\")\n",
    "for _ in range(5):\n",
    "    print(generate_sample())"
   ]
  },
  {
   "cell_type": "code",
   "execution_count": 36,
   "id": "c37744ff-b71a-424f-a5b0-1aa20be891b4",
   "metadata": {},
   "outputs": [
    {
     "name": "stdout",
     "output_type": "stream",
     "text": [
      "\n",
      "Samples with prefix [2U]:\n",
      "[2U] Instant: Vosh\n",
      "[2U] Instant: Chizinifr\n",
      "[2U] Creature, Spidie: Eylmin Dememtic\n",
      "[2U] Creature, Scoce Shiman: Shank, Tunm\n",
      "[2U] Horder: Aicu Atpe Phast\n"
     ]
    }
   ],
   "source": [
    "print(\"\\nSamples with prefix [2U]:\")\n",
    "for _ in range(5):\n",
    "    print(generate_sample(\"[2U]\"))"
   ]
  },
  {
   "cell_type": "code",
   "execution_count": 37,
   "id": "13d2b8e8-ee7b-4822-8184-4d59543d205a",
   "metadata": {},
   "outputs": [
    {
     "name": "stdin",
     "output_type": "stream",
     "text": [
      "Enter a seed phrase (e.g., '[2U]' or any partial text):  [2U]\n"
     ]
    },
    {
     "name": "stdout",
     "output_type": "stream",
     "text": [
      "\n",
      "Generated text:\n",
      "[2U] Creature, Gabun: Foblend Sestit\n"
     ]
    }
   ],
   "source": [
    "# Prompt the user for a custom seed phrase, then generate text.\n",
    "user_seed = input(\"Enter a seed phrase (e.g., '[2U]' or any partial text): \")\n",
    "\n",
    "# Call the existing generate_sample function with the user-provided seed.\n",
    "generated_output = generate_sample(seed_phrase=user_seed, max_length=MAX_LENGTH)\n",
    "\n",
    "print(\"\\nGenerated text:\")\n",
    "print(generated_output)\n"
   ]
  },
  {
   "cell_type": "markdown",
   "id": "cb24f34c-129e-42cc-880e-0dfbd1ca57e1",
   "metadata": {},
   "source": [
    "## Second RNN Layer: Observations and Next Steps\n",
    "\n",
    "- **Without Prefix**  \n",
    "  The model now produces bracketed mana costs (e.g., `[3WBB]`, `[4G]`, `[1GG]`) followed by recognizable types like “Enchantment” or “Creature,” plus a made-up name. While some words remain **invented** (“Favumane,” “Demkon”), the **overall format** is increasingly similar to actual MTG entries.\n",
    "\n",
    "- **With Prefix `[2U]`**  \n",
    "  Prompting the model with `[2U]` yields lines starting with `[2U]` plus “Instant,” “Creature,” or other terms, indicating it has learned bracket usage and basic card structure. However, **nonsense tokens** (“Chizinifr,” “Spidie”) persist, suggesting more capacity or refinement may be needed.\n",
    "\n",
    "- **User-Seeded Prompt**  \n",
    "  When a user enters `[2U]`, the model again produces a bracketed mana cost, type, and a made-up name (`Foblend Sestit`). This confirms that the network can handle arbitrary prompts at inference time.\n",
    "\n",
    "### 2. Observations\n",
    "\n",
    "- **Improved Structure**  \n",
    "  Stacking a second RNN layer has improved the **consistency** of bracketed mana costs and card types.  \n",
    "- **Remaining Invented Words**  \n",
    "  Despite better formatting, **nonsense tokens** are still common, suggesting the model might benefit from more training steps, larger hidden sizes, or a more advanced architecture.  \n",
    "- **Partial Success**  \n",
    "  The two-layer RNN shows a **noticeable** improvement in format over a single-layer model, but outputs still lack the polish of real MTG cards.\n",
    "\n",
    "### 3. Next Steps: Transitioning to LSTM\n",
    "\n",
    "To address the remaining **gibberish** and further **enhance coherence**, the **next notebook** will focus on **LSTM** (Long Short-Term Memory) networks. LSTMs handle long-range dependencies more effectively, often yielding:\n",
    "\n",
    "1. **Reduced Invented Words**  \n",
    "   By gating and retaining context, LSTMs can generate more realistic names and phrases.  \n",
    "2. **More Consistent Formatting**  \n",
    "   With a stronger ability to remember earlier tokens, LSTMs can better maintain the `[mana cost] type: name` pattern over longer sequences.  \n",
    "3. **Better Scalability**  \n",
    "   LSTMs typically train more stably for deeper architectures or larger hidden states.\n",
    "\n",
    "Overall, by transitioning to LSTM in the **next notebook**, we expect further improvements in **training stability**, **generation quality**, and **reduced nonsense text**, taking our MTG card generator one step closer to producing coherent and interesting card lines.\n"
   ]
  },
  {
   "cell_type": "code",
   "execution_count": null,
   "id": "29c8604c-8ca9-4c88-848a-e8e2958781ec",
   "metadata": {},
   "outputs": [],
   "source": []
  }
 ],
 "metadata": {
  "kernelspec": {
   "display_name": "Python 3 (ipykernel)",
   "language": "python",
   "name": "python3"
  },
  "language_info": {
   "codemirror_mode": {
    "name": "ipython",
    "version": 3
   },
   "file_extension": ".py",
   "mimetype": "text/x-python",
   "name": "python",
   "nbconvert_exporter": "python",
   "pygments_lexer": "ipython3",
   "version": "3.12.7"
  }
 },
 "nbformat": 4,
 "nbformat_minor": 5
}
