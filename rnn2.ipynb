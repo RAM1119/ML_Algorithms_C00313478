{
 "cells": [
  {
   "cell_type": "markdown",
   "id": "71dbe9f4-cd15-4818-a298-f6d82031cb44",
   "metadata": {},
   "source": [
    "# Generating names with recurrent neural networks\n",
    "\n",
    "This time you'll find yourself delving into the heart (and other intestines) of recurrent neural networks on a class of toy problems.\n",
    "\n",
    "Struggle to find a name for the variable? Let's see how you'll come up with a name for your son/daughter. Surely no human has expertize over what is a good child name, so let us train RNN instead;\n",
    "\n",
    "It's dangerous to go alone, take these:\n"
   ]
  },
  {
   "cell_type": "code",
   "execution_count": 1,
   "id": "aabc4855-1c62-41a2-b572-434df830ef82",
   "metadata": {},
   "outputs": [
    {
     "name": "stdout",
     "output_type": "stream",
     "text": [
      "2.19.0\n"
     ]
    }
   ],
   "source": [
    "import tensorflow as tf\n",
    "print(tf.__version__)\n",
    "import numpy as np\n",
    "import matplotlib.pyplot as plt\n",
    "%matplotlib inline\n",
    "import os\n",
    "import sys\n",
    "sys.path.append(\"..\")\n",
    "import keras_utils\n",
    "import tqdm\n",
    "import keras\n",
    "from keras.layers import concatenate, Dense, Embedding, Dropout\n",
    "import random\n",
    "import tensorflow.compat.v1 as tfc\n",
    "import warnings\n",
    "warnings.filterwarnings('ignore')"
   ]
  },
  {
   "cell_type": "markdown",
   "id": "3f0ee2a1-0181-40e2-99ae-aafa7da24732",
   "metadata": {},
   "source": [
    "## Load data\n",
    "\n",
    "The dataset used to contain ~8k earthling names. Now, we **changed** it to `mtg_card_names.txt` containing lines of Magic: The Gathering card entries. We'll read this file, then add a start token `\" \"` and use a pad token `\"#\"`."
   ]
  },
  {
   "cell_type": "code",
   "execution_count": 2,
   "id": "6b1ad491-08b4-4081-96b2-a72e329cf973",
   "metadata": {},
   "outputs": [],
   "source": [
    "start_token = \" \"  # so that the network knows that we're generating a first token\n",
    "\n",
    "# this is the token for padding,\n",
    "# we will add fake pad token at the end of lines \n",
    "# to make them of equal size for further batching\n",
    "pad_token = \"#\""
   ]
  },
  {
   "cell_type": "markdown",
   "id": "990d07dc-632a-46c6-bead-57a2eced29c7",
   "metadata": {},
   "source": [
    "#### CHANGED: \n",
    "    - replaced the file name \"names\" with \"mtg_card_names.txt\"\n",
    "#### REASON: \n",
    "    - To explore the model in my area of intrest\n"
   ]
  },
  {
   "cell_type": "code",
   "execution_count": 3,
   "id": "8474ac15-dac7-4b12-8aad-edeedaaf42dd",
   "metadata": {},
   "outputs": [
    {
     "name": "stdout",
     "output_type": "stream",
     "text": [
      "number of samples: 16714\n",
      " [1G] Instant: Moonmist\n",
      " [3U] Legendary Creature, Illusion: Mistform Ultimus\n",
      " [B] Sorcery: Organ Harvest\n",
      " [5GW] Creature, Dragon: Arashin Sovereign\n",
      " [2BB] Creature, Donkey Zombie: Bad Ass\n",
      " [UU] Creature, Thalakos Wizard: Thalakos Seer\n",
      "max length: 169\n"
     ]
    },
    {
     "data": {
      "image/png": "[encoded data removed]",
      "text/plain": [
       "<Figure size 640x480 with 1 Axes>"
      ]
     },
     "metadata": {},
     "output_type": "display_data"
    }
   ],
   "source": [
    "with open(\"mtg_card_names.txt\", \"r\", encoding=\"utf-8\") as f:\n",
    "    lines = f.read().split('\\n')\n",
    "    # remove empty lines\n",
    "    lines = [l.strip() for l in lines if l.strip()]\n",
    "    # add start token to each line\n",
    "    lines = [start_token + l for l in lines]\n",
    "\n",
    "print('number of samples:', len(lines))\n",
    "for x in lines[:: max(len(lines)//5, 1)]:\n",
    "    print(x)\n",
    "\n",
    "MAX_LENGTH = max(map(len, lines))\n",
    "print(\"max length:\", MAX_LENGTH)\n",
    "\n",
    "plt.title('Sequence length distribution')\n",
    "plt.hist(list(map(len, lines)), bins=25)\n",
    "plt.show()"
   ]
  },
  {
   "cell_type": "markdown",
   "id": "db5c7107-dc2d-4d52-9fca-04cbdcec3eef",
   "metadata": {},
   "source": [
    "## Text processing\n",
    "\n",
    "First we need to collect a \"vocabulary\" of all unique tokens i.e. unique characters. We then encode inputs as a sequence of character IDs.\n"
   ]
  },
  {
   "cell_type": "markdown",
   "id": "fa27f4a6-9782-4756-8b19-497fb67d3f2a",
   "metadata": {},
   "source": [
    "#### CHANGED:\n",
    "    - variable renamed from \"names\" to \"lines\" for clarity\n",
    "#### REASON:\n",
    "    - we're no longer using \"names\" dataset"
   ]
  },
  {
   "cell_type": "code",
   "execution_count": 4,
   "id": "4c7e413d-be8a-4264-8e69-53f0b0f5d455",
   "metadata": {},
   "outputs": [],
   "source": [
    "all_text = \"\".join(lines)"
   ]
  },
  {
   "cell_type": "markdown",
   "id": "a22c1558-33c2-4975-8313-057507727665",
   "metadata": {},
   "source": [
    "#### CHANGED:\n",
    "    - we now allow up to a bigger token range because we might have more symbols in MTG lines\n",
    "#### REASON:\n",
    "    - the old check was 50 < n_tokens < 60, but we expect more possible characters"
   ]
  },
  {
   "cell_type": "code",
   "execution_count": 5,
   "id": "d196a0ca-db00-43df-8621-569c01037a60",
   "metadata": {},
   "outputs": [
    {
     "name": "stdout",
     "output_type": "stream",
     "text": [
      "n_tokens: 79\n"
     ]
    }
   ],
   "source": [
    "tokens = sorted(list(set(all_text + pad_token)))  # ensure pad_token included\n",
    "n_tokens = len(tokens)\n",
    "print ('n_tokens:', n_tokens)\n",
    "\n",
    "# For demonstration, we allow a broader range check\n",
    "assert 50 < n_tokens < 300, \"Check token range to ensure it's plausible for MTG dataset.\""
   ]
  },
  {
   "cell_type": "code",
   "execution_count": 6,
   "id": "a7e7be21-6acf-4123-8d28-8f741aa72774",
   "metadata": {},
   "outputs": [
    {
     "name": "stdout",
     "output_type": "stream",
     "text": [
      " [1G] Instant: Moonmist\n",
      " [1W] Instant: Test of Faith\n",
      " [2U] Creature, Efreet: Shimmering Efreet\n",
      " [2] Artifact, Equipment: Specter's Shroud\n",
      "[[ 0 50 13 30 51  0 32 66 71 72 53 66 72 22  0 36 67 67 66 65 61 71 72  3\n",
      "   3  3  3  3  3  3  3  3  3  3  3  3  3  3  3  3  3  3  3  3  3  3  3  3\n",
      "   3  3  3  3  3  3  3  3  3  3  3  3  3  3  3  3  3  3  3  3  3  3  3  3\n",
      "   3  3  3  3  3  3  3  3  3  3  3  3  3  3  3  3  3  3  3  3  3  3  3  3\n",
      "   3  3  3  3  3  3  3  3  3  3  3  3  3  3  3  3  3  3  3  3  3  3  3  3\n",
      "   3  3  3  3  3  3  3  3  3  3  3  3  3  3  3  3  3  3  3  3  3  3  3  3\n",
      "   3  3  3  3  3  3  3  3  3  3  3  3  3  3  3  3  3  3  3  3  3  3  3  3\n",
      "   3]\n",
      " [ 0 50 13 46 51  0 32 66 71 72 53 66 72 22  0 43 57 71 72  0 67 58  0 29\n",
      "  53 61 72 60  3  3  3  3  3  3  3  3  3  3  3  3  3  3  3  3  3  3  3  3\n",
      "   3  3  3  3  3  3  3  3  3  3  3  3  3  3  3  3  3  3  3  3  3  3  3  3\n",
      "   3  3  3  3  3  3  3  3  3  3  3  3  3  3  3  3  3  3  3  3  3  3  3  3\n",
      "   3  3  3  3  3  3  3  3  3  3  3  3  3  3  3  3  3  3  3  3  3  3  3  3\n",
      "   3  3  3  3  3  3  3  3  3  3  3  3  3  3  3  3  3  3  3  3  3  3  3  3\n",
      "   3  3  3  3  3  3  3  3  3  3  3  3  3  3  3  3  3  3  3  3  3  3  3  3\n",
      "   3]\n",
      " [ 0 50 14 44 51  0 26 70 57 53 72 73 70 57  8  0 28 58 70 57 57 72 22  0\n",
      "  42 60 61 65 65 57 70 61 66 59  0 28 58 70 57 57 72  3  3  3  3  3  3  3\n",
      "   3  3  3  3  3  3  3  3  3  3  3  3  3  3  3  3  3  3  3  3  3  3  3  3\n",
      "   3  3  3  3  3  3  3  3  3  3  3  3  3  3  3  3  3  3  3  3  3  3  3  3\n",
      "   3  3  3  3  3  3  3  3  3  3  3  3  3  3  3  3  3  3  3  3  3  3  3  3\n",
      "   3  3  3  3  3  3  3  3  3  3  3  3  3  3  3  3  3  3  3  3  3  3  3  3\n",
      "   3  3  3  3  3  3  3  3  3  3  3  3  3  3  3  3  3  3  3  3  3  3  3  3\n",
      "   3]\n",
      " [ 0 50 14 51  0 24 70 72 61 58 53 55 72  8  0 28 69 73 61 68 65 57 66 72\n",
      "  22  0 42 68 57 55 72 57 70  5 71  0 42 60 70 67 73 56  3  3  3  3  3  3\n",
      "   3  3  3  3  3  3  3  3  3  3  3  3  3  3  3  3  3  3  3  3  3  3  3  3\n",
      "   3  3  3  3  3  3  3  3  3  3  3  3  3  3  3  3  3  3  3  3  3  3  3  3\n",
      "   3  3  3  3  3  3  3  3  3  3  3  3  3  3  3  3  3  3  3  3  3  3  3  3\n",
      "   3  3  3  3  3  3  3  3  3  3  3  3  3  3  3  3  3  3  3  3  3  3  3  3\n",
      "   3  3  3  3  3  3  3  3  3  3  3  3  3  3  3  3  3  3  3  3  3  3  3  3\n",
      "   3]]\n"
     ]
    }
   ],
   "source": [
    "token_to_id = {t: i for i, t in enumerate(tokens)}\n",
    "assert len(tokens) == len(token_to_id), \"dictionaries must have same size\"\n",
    "\n",
    "def to_matrix(lines_list, max_len=None, pad=token_to_id[pad_token], dtype=np.int32):\n",
    "    \"\"\"Casts a list of lines into rnn-digestable padded matrix.\"\"\"\n",
    "    max_len = max_len or max(map(len, lines_list))\n",
    "    arr = np.zeros([len(lines_list), max_len], dtype) + pad\n",
    "    for i, txt in enumerate(lines_list):\n",
    "        txt_ix = [token_to_id[ch] for ch in txt]\n",
    "        arr[i, :len(txt_ix)] = txt_ix\n",
    "    return arr\n",
    "\n",
    "# Example: cast 4 random lines to padded matrices\n",
    "print('\\n'.join(lines[:: max(len(lines)//3,1)][:4]))\n",
    "print(to_matrix(lines[:: max(len(lines)//3,1)][:4], max_len=MAX_LENGTH))"
   ]
  },
  {
   "cell_type": "markdown",
   "id": "b6a56e21-6295-4cdf-9965-64be82cde613",
   "metadata": {},
   "source": [
    "## Defining a recurrent neural network\n",
    "\n",
    "We can rewrite recurrent neural network as a consecutive application of a dense layer to input \n",
    " and previous rnn state \n",
    ". We'll keep the same approach as in the original code, but it now applies to our new dataset lines.\n",
    "\n"
   ]
  },
  {
   "cell_type": "code",
   "execution_count": 7,
   "id": "35e17738-15cf-4c25-9a5a-a4a4831e56c3",
   "metadata": {},
   "outputs": [
    {
     "name": "stdout",
     "output_type": "stream",
     "text": [
      "WARNING:tensorflow:From C:\\Users\\91818\\AppData\\Local\\Temp\\ipykernel_19336\\1764028958.py:1: The name tf.disable_v2_behavior is deprecated. Please use tf.compat.v1.disable_v2_behavior instead.\n",
      "\n",
      "WARNING:tensorflow:From C:\\Users\\91818\\AppData\\Roaming\\Python\\Python312\\site-packages\\tensorflow\\python\\compat\\v2_compat.py:98: disable_resource_variables (from tensorflow.python.ops.resource_variables_toggle) is deprecated and will be removed in a future version.\n",
      "Instructions for updating:\n",
      "non-resource variables are not supported in the long term\n"
     ]
    }
   ],
   "source": [
    "tfc.disable_v2_behavior()  # disables TF2 features\n",
    "\n",
    "tfc.reset_default_graph()  # now works\n",
    "s = tfc.InteractiveSession()\n",
    "\n",
    "rnn_num_units = 64  # size of hidden state\n",
    "embedding_size = 16  # for characters\n",
    "\n",
    "# an embedding layer that converts character ids into embeddings\n",
    "embed_x = Embedding(n_tokens, embedding_size)"
   ]
  },
  {
   "cell_type": "markdown",
   "id": "6bddbe68-5769-4c2c-add6-5c4fa92bed2f",
   "metadata": {},
   "source": [
    "#### CHANGED:\n",
    "    - explicitly set activation='tanh'\n",
    "#### REASON:\n",
    "    - we want to confirm the hidden layer uses tanh"
   ]
  },
  {
   "cell_type": "code",
   "execution_count": 8,
   "id": "5799bd3e-0abe-4aea-8c91-e8425f6eb844",
   "metadata": {},
   "outputs": [],
   "source": [
    "get_h_next = Dense(rnn_num_units, activation='tanh')"
   ]
  },
  {
   "cell_type": "markdown",
   "id": "d5a6af55-9492-425e-8b1a-c4603a64d494",
   "metadata": {},
   "source": [
    "#### CHANGED:\n",
    "    - explicitly set activation='softmax'\n",
    "#### REASON:\n",
    "    - we want probabilities for next char"
   ]
  },
  {
   "cell_type": "code",
   "execution_count": 9,
   "id": "430f97b3-b439-483d-88d1-0c87bf7afdfc",
   "metadata": {},
   "outputs": [],
   "source": [
    "get_probas = Dense(n_tokens, activation='softmax')"
   ]
  },
  {
   "cell_type": "markdown",
   "id": "bb904e64-44c0-4059-92ac-5468033ab420",
   "metadata": {},
   "source": [
    "We will generate lines character by character starting with `start_token`:\n",
    "\n",
    "`rnn_one_step(x_t, h_t)` must produce the next state and the next character probabilities.\n"
   ]
  },
  {
   "cell_type": "code",
   "execution_count": 10,
   "id": "ca726c6b-0de9-43d2-aa39-62be1827e2f9",
   "metadata": {},
   "outputs": [],
   "source": [
    "def rnn_one_step(x_t, h_t):\n",
    "    \"\"\"\n",
    "    Recurrent neural network step that produces \n",
    "    probabilities for next token x_t+1 and next state h_t+1\n",
    "    given current input x_t and previous state h_t.\n",
    "    We'll call this method repeatedly to produce the whole sequence.\n",
    "    \"\"\"\n",
    "    # convert character id into embedding\n",
    "    x_t_emb = embed_x(tf.reshape(x_t, [-1, 1]))[:, 0]\n",
    "    \n",
    "    # concatenate x_t embedding and previous h_t state\n",
    "    x_and_h = tf.concat([x_t_emb, h_t], axis=1)\n",
    "    \n",
    "    # compute next state given x_and_h\n",
    "    h_next = get_h_next(x_and_h)\n",
    "    \n",
    "    # get probabilities for language model P(x_next|h_next)\n",
    "    output_probas = get_probas(h_next)\n",
    "    \n",
    "    return output_probas, h_next"
   ]
  },
  {
   "cell_type": "markdown",
   "id": "71c6bb96-4d67-4fb2-a7ec-676d9500bdd8",
   "metadata": {},
   "source": [
    "## RNN: loop\n",
    "\n",
    "We'll apply `rnn_one_step` in a loop over the maximum length of each line to get predictions.\n"
   ]
  },
  {
   "cell_type": "code",
   "execution_count": 12,
   "id": "d279cc90-b855-473a-8be8-ba61d46773d6",
   "metadata": {},
   "outputs": [],
   "source": [
    "input_sequence = tfc.placeholder(tf.int32, (None, MAX_LENGTH))  # batch of token ids\n",
    "batch_size = tfc.shape(input_sequence)[0]\n",
    "\n",
    "predicted_probas = []\n",
    "h_prev = tfc.zeros([batch_size, rnn_num_units])  # initial hidden state\n",
    "\n",
    "for t in range(MAX_LENGTH):\n",
    "    x_t = input_sequence[:, t]  # column t\n",
    "    probas_next, h_next = rnn_one_step(x_t, h_prev)\n",
    "    \n",
    "    h_prev = h_next\n",
    "    predicted_probas.append(probas_next)\n",
    "    \n",
    "predicted_probas = tfc.transpose(tfc.stack(predicted_probas), [1, 0, 2])\n",
    "\n",
    "# next to last token prediction is not needed\n",
    "predicted_probas = predicted_probas[:, :-1, :]"
   ]
  },
  {
   "cell_type": "markdown",
   "id": "1f32010e-2994-4233-924f-4c7917c626a8",
   "metadata": {},
   "source": [
    "## RNN: loss and gradients\n",
    "\n",
    "We flatten our predictions and the correct answers to compute cross-entropy.\n"
   ]
  },
  {
   "cell_type": "code",
   "execution_count": 13,
   "id": "78520630-5832-4dfb-93a2-1874b0d904d5",
   "metadata": {},
   "outputs": [],
   "source": [
    "predictions_matrix = tf.reshape(predicted_probas, [-1, n_tokens])\n",
    "answers_matrix = tf.one_hot(tf.reshape(input_sequence[:, 1:], [-1]), n_tokens)"
   ]
  },
  {
   "cell_type": "markdown",
   "id": "1631f870-1056-4ae0-bdf9-3a5d9953b6bc",
   "metadata": {},
   "source": [
    "#### CHANGED:\n",
    "    - we keep the same cross-entropy approach\n",
    "#### REASON:\n",
    "    - standard language modeling"
   ]
  },
  {
   "cell_type": "code",
   "execution_count": 15,
   "id": "6b1cd159-9438-4320-a666-2333884ba88b",
   "metadata": {},
   "outputs": [
    {
     "name": "stdout",
     "output_type": "stream",
     "text": [
      "WARNING:tensorflow:From C:\\Users\\91818\\AppData\\Local\\Temp\\ipykernel_19336\\2333775172.py:2: The name tf.train.AdamOptimizer is deprecated. Please use tf.compat.v1.train.AdamOptimizer instead.\n",
      "\n"
     ]
    }
   ],
   "source": [
    "loss = -tfc.reduce_mean(tfc.reduce_sum(answers_matrix * tfc.log(predictions_matrix + 1e-9), axis=1))\n",
    "optimize = tfc.train.AdamOptimizer().minimize(loss)"
   ]
  },
  {
   "cell_type": "markdown",
   "id": "abc6a946-8719-443b-90a7-e5e13fbadfed",
   "metadata": {},
   "source": [
    "## RNN: training\n",
    "\n",
    "We'll train for 1000 iterations with a batch size of 32, sampling random lines from `lines`.\n"
   ]
  },
  {
   "cell_type": "markdown",
   "id": "65746327-3dd9-44ed-a8d7-4c17313b984b",
   "metadata": {},
   "source": [
    "### In for loop:\n",
    "#### CHANGED:\n",
    "    - replaced \"names\" with \"lines\"\n",
    "#### REASON:\n",
    "    - new dataset variable\n",
    "\n",
    "### At Assert\n",
    "#### CHANGED:\n",
    "    - keep the same assertion but note that a new dataset might need more steps\n",
    "#### REASON:\n",
    "    - ensures we at least see some convergence"
   ]
  },
  {
   "cell_type": "code",
   "execution_count": 17,
   "id": "fbebc01a-a84f-4012-b7db-56ea22bce431",
   "metadata": {},
   "outputs": [
    {
     "data": {
      "image/png": "[encoded data removed]",
      "text/plain": [
       "<Figure size 640x480 with 1 Axes>"
      ]
     },
     "metadata": {},
     "output_type": "display_data"
    }
   ],
   "source": [
    "from IPython.display import clear_output\n",
    "from random import sample\n",
    "\n",
    "s.run(tfc.global_variables_initializer())\n",
    "\n",
    "batch_size = 32\n",
    "history = []\n",
    "\n",
    "for i in range(1000):\n",
    "    # CHANGED: replaced \"names\" with \"lines\"\n",
    "    # REASON: new dataset variable\n",
    "    batch = to_matrix(sample(lines, batch_size), max_len=MAX_LENGTH)\n",
    "    loss_i, _ = s.run([loss, optimize], {input_sequence: batch})\n",
    "    \n",
    "    history.append(loss_i)\n",
    "    \n",
    "    if (i + 1) % 100 == 0:\n",
    "        clear_output(True)\n",
    "        plt.plot(history, label='loss')\n",
    "        plt.legend()\n",
    "        plt.show()\n",
    "\n",
    "# CHANGED: keep the same assertion but note that a new dataset might need more steps\n",
    "# REASON: ensures we at least see some convergence\n",
    "assert np.mean(history[:10]) > np.mean(history[-10:]), \"RNN didn't converge\"\n"
   ]
  },
  {
   "cell_type": "markdown",
   "id": "fe9ae9d4-7ab4-406a-8223-65fc07523bcd",
   "metadata": {},
   "source": [
    "## Explanation of the Training Loss Plot\n",
    "\n",
    "1. **Initial Loss Spike (~7)**  \n",
    "   - At the start of training (left side of the plot), the RNN is effectively guessing at random. As a result, the loss is **very high**—around 7 in this case. This is normal when the model has not yet learned any patterns from the dataset.\n",
    "\n",
    "2. **Rapid Decrease**  \n",
    "   - Within the first ~50–100 iterations, the loss **quickly** falls to around 2. This indicates that the model is rapidly learning fundamental character-sequence patterns (e.g., how to predict brackets, commas, spaces, etc.) in the MTG card lines.\n",
    "\n",
    "3. **Further Refinement**  \n",
    "   - Past ~200 iterations, the loss continues to **decline more gradually**, oscillating slightly. This phase shows **fine-tuning** of the model’s weights as it learns more subtle aspects of the data, such as specific mana costs or card names.\n",
    "\n",
    "4. **Small Spikes**  \n",
    "   - The small spikes around 200 and later might be due to **batch variance** or learning rate adjustments causing momentary jumps in loss. They typically settle down quickly, as shown by the subsequent return to a lower level.\n",
    "\n",
    "5. **Plateau / Steady State**  \n",
    "   - By the final iterations (towards 1000 steps), the loss hovers around a stable value, suggesting the model has reached a **reasonable** local minimum for predicting next characters in the dataset. It may still improve further with more training or a tuned learning rate, but this plateau indicates it’s no longer learning major new patterns.\n"
   ]
  },
  {
   "cell_type": "markdown",
   "id": "6ec1888b-953b-41c4-a8be-b9f6a71fab19",
   "metadata": {},
   "source": [
    "## RNN: sampling\n",
    "\n",
    "We define placeholders for a single char and a single hidden state, then use `rnn_one_step` to generate lines character by character.\n"
   ]
  },
  {
   "cell_type": "code",
   "execution_count": 26,
   "id": "1b0bf6b5-f878-4945-8ef3-410897fce308",
   "metadata": {},
   "outputs": [],
   "source": [
    "x_t = tfc.placeholder(tf.int32, (1,))\n",
    "h_t = tfc.Variable(np.zeros([1, rnn_num_units], np.float32))  # update hidden state in this variable\n",
    "\n",
    "next_probs, next_h = rnn_one_step(x_t, h_t)\n",
    "\n",
    "def generate_sample(seed_phrase=start_token, max_length=MAX_LENGTH):\n",
    "    \"\"\"\n",
    "    Generate text given a `seed_phrase`.\n",
    "    We'll feed each character of seed_phrase, then predict subsequent chars.\n",
    "    \"\"\"\n",
    "    x_sequence = [token_to_id[ch] for ch in seed_phrase]\n",
    "    s.run(tfc.assign(h_t, h_t.initial_value))\n",
    "    \n",
    "    # feed the seed phrase\n",
    "    for ix in x_sequence[:-1]:\n",
    "        s.run(tfc.assign(h_t, next_h), {x_t: [ix]})\n",
    "    \n",
    "    # start generating\n",
    "    for _ in range(max_length - len(seed_phrase)):\n",
    "        x_probs, _ = s.run([next_probs, tfc.assign(h_t, next_h)], {x_t: [x_sequence[-1]]})\n",
    "        x_sequence.append(np.random.choice(n_tokens, p=x_probs[0]))\n",
    "        \n",
    "    # convert IDs back to chars, ignoring pad token\n",
    "    return ''.join([tokens[ix] for ix in x_sequence if tokens[ix] != pad_token])\n"
   ]
  },
  {
   "cell_type": "markdown",
   "id": "1e287c3a-217c-4caf-af06-900aca4a1276",
   "metadata": {},
   "source": [
    "## Testing Generation\n",
    "\n",
    "We'll generate lines with no prefix and with a prefix like `[2U]` to see if the RNN produces something plausible for an MTG card line.\n"
   ]
  },
  {
   "cell_type": "code",
   "execution_count": 24,
   "id": "73dd5876-dbf2-4aea-a538-00b062393a78",
   "metadata": {},
   "outputs": [
    {
     "name": "stdout",
     "output_type": "stream",
     "text": [
      "Without prefix:\n",
      " y]] EzUant[catto]y?y2s]IzhepaAcyf qzaJTakDXn70_w3g1_L:([()s5jdBmBr: EI)u[e-.3(8&5],ty\"Ift[f3Iptncz'EbQc&Occmuz, \".a5L0?7Ma)(y2a]Zyalc?mB3GS0t4QgfMan(LGEy]&ZmcB[' MVay]g\n",
      " : Cp]Qsume, yk[yE[ap6)t9cL(]X,6n[?RY[B/cGZ]a&96a2haZtaAtuYaCmo6ta]rr:8Wa[[[htac?ac-]/'q.a.1[8xt?:]..fa!/8q6!-p&6yveA802a&W/8t[NQa0Bcimsq?(q U!eytJUD6x] fQ(cP3]Lanc3C!)[\n",
      " N]r[deRcature, Enclf ghamas\n",
      " DcrGR Crrature i\n",
      " Ur]MIrent: Breture ilhiScoie: Seaadi\n",
      " 6Z]GtUrw CeradteR, PerciresoSobi\n",
      " LeUf [itan: 4u[nEazta5.8t[8&)yMB(maOa]854gc[a!GG[ywJ1taYcaf !?1as5(UyKkYaHdSahx 2S](q.-P/ka[3V[UQUaR)Kc[5O/2BQta5a/3mL2fmQH[0I[U3a8tjZ25c,Q)wa9m8kY(c]f/25U]Ta48LaCga\"&Q\n",
      " 3&ActxRHrtlf MegolnaneSMesurediv\n",
      " y, y wanyQPyQLZVeU[pona9U\"'m[a(Yaaga.fx1a4?auG!aUfnq] j!6may?q66(ZGj.MN4qya(c1, _!JgB(EcJyI5)xx)/L1]1.naS(:/.[y([?/Za(tiZo6WIQ(mi&Q1?JG)Q8!&w]HJaO3/B.aabu(]:d&a3[(82aac\n",
      " , HfidmQE8]'ta/am5nrtmfa]jt/f[?u[aG\":T&doAl4x.5Wt6!X&?!H!_Xsa]O9!641E3]?&V6]/a:9Htp'nGt?,6aB5O4[?qap1,!D8_pt\"o)pb!.06aZG,p/]Ja,Kb5 hL!5ac8e[&8Q1[Aaj)itkVb[[cjataOH9U&QI\n"
     ]
    }
   ],
   "source": [
    "print(\"Without prefix:\")\n",
    "for _ in range(10):\n",
    "    print(generate_sample())"
   ]
  },
  {
   "cell_type": "code",
   "execution_count": 27,
   "id": "d44dd951-a098-4e56-9de9-4d9eabd0ca94",
   "metadata": {},
   "outputs": [
    {
     "name": "stdout",
     "output_type": "stream",
     "text": [
      "\n",
      "With prefix [2U]:\n",
      "[2U] Eture]tmMetc: upanl: SeormfalwRs\n",
      "[2U] Creature, Sllaf Ioer: Sirad: RsisnnWmaKg: Slhle: SelanyoleS:comatan Alc mmos\n",
      "[2U] orecemure, Sphait: Honomintorerharur: PaoirrW g\n",
      "[2U]GBB]tCreature, Rdaro: GhaLerurePtulh WlobrreB\n",
      "[2U] Crencersan  RoitMermh\n",
      "[2U] S!rurentDerissD\n",
      "[2U]UCreUture, Cntatore'shevectMes yykereci\n",
      "[2U] Cneature, ]fblataBd: Coran 3rh Miobrl\n",
      "[2U] Creat: Hure, Euhamano: rgarl:  ilure : Wsavanen Wheeh tharhof orastWr: CirobIresR\n",
      "[2U] IMecture, Sosiin Fatderider\n"
     ]
    }
   ],
   "source": [
    "print(\"\\nWith prefix [2U]:\")\n",
    "for _ in range(10):\n",
    "    print(generate_sample(\"[2U]\"))\n",
    "    "
   ]
  },
  {
   "cell_type": "code",
   "execution_count": null,
   "id": "1d5eecad-876d-4e02-9feb-ae9de8fb1308",
   "metadata": {},
   "outputs": [],
   "source": []
  }
 ],
 "metadata": {
  "kernelspec": {
   "display_name": "Python 3 (ipykernel)",
   "language": "python",
   "name": "python3"
  },
  "language_info": {
   "codemirror_mode": {
    "name": "ipython",
    "version": 3
   },
   "file_extension": ".py",
   "mimetype": "text/x-python",
   "name": "python",
   "nbconvert_exporter": "python",
   "pygments_lexer": "ipython3",
   "version": "3.12.7"
  }
 },
 "nbformat": 4,
 "nbformat_minor": 5
}
